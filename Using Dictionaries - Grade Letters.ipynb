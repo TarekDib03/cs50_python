{
 "cells": [
  {
   "cell_type": "code",
   "execution_count": 4,
   "id": "8260bfd1-d294-4a31-8b3d-1d66c71560e5",
   "metadata": {},
   "outputs": [
    {
     "name": "stdin",
     "output_type": "stream",
     "text": [
      "Enter your score 80\n"
     ]
    },
    {
     "name": "stdout",
     "output_type": "stream",
     "text": [
      "B\n"
     ]
    }
   ],
   "source": [
    "# Import the numerical package numpy as np\n",
    "import numpy as np\n",
    "# Create a dictionary of grades and letter grades using the arange method in nump\n",
    "letter_grades = {'A': [90, 100], \n",
    "                 'B': np.arange(80,90,0.01),  # 80., 80.01, 80.02.......89.99  ->  Took 2 decimal places for accuracy matter\n",
    "                 'C': np.arange(70,80,0.01),  # 70., 70.01, 70.02.......79.99\n",
    "                 'D': np.arange(60,70,0.01),\n",
    "                 'F': np.arange(0,60,0.01)\n",
    "                }\n",
    "# Input the grade\n",
    "score = float(input(\"Enter your score\"))\n",
    "\n",
    "# Iterate over the dictionary items (letters and grades) and check if the score lays within the array of each grade letter. \n",
    "# If it does, print out the letter.\n",
    "\n",
    "for letter, grade in letter_grades.items():\n",
    "    # grade is a list of scores\n",
    "    if score >= grade[0] and score <= grade[len(grade) - 1]:\n",
    "        print(letter)\n",
    "\n",
    "# If the input score is either less than 0 or greater than 100, return an invalid message.\n",
    "if score < 0 or score > 100:\n",
    "    print(\"Invalid score. Please enter a valid score between 0 and 100\")"
   ]
  },
  {
   "cell_type": "code",
   "execution_count": null,
   "id": "0ef404f5-8050-471a-a005-c1bc25c4e9ba",
   "metadata": {},
   "outputs": [],
   "source": []
  }
 ],
 "metadata": {
  "kernelspec": {
   "display_name": "Python 3 (ipykernel)",
   "language": "python",
   "name": "python3"
  },
  "language_info": {
   "codemirror_mode": {
    "name": "ipython",
    "version": 3
   },
   "file_extension": ".py",
   "mimetype": "text/x-python",
   "name": "python",
   "nbconvert_exporter": "python",
   "pygments_lexer": "ipython3",
   "version": "3.11.7"
  }
 },
 "nbformat": 4,
 "nbformat_minor": 5
}
